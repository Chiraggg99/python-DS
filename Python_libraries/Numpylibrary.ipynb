{
 "cells": [
  {
   "cell_type": "markdown",
   "metadata": {},
   "source": [
    "<h2>Numpy Library :-</h2>"
   ]
  },
  {
   "cell_type": "markdown",
   "metadata": {},
   "source": [
    "NumPy is an essential library for scientific computing in Python, renowned for its robust features and capabilities.\n",
    "\n",
    "It supports large, multi-dimensional arrays and matrices and provides a comprehensive suite of mathematical functions to operate on these arrays.\n",
    "\n",
    "One of NumPy's key advantages is its ability to perform arithmetic operations on arrays of varying shapes and sizes without the need for explicit reshaping. This feature simplifies and streamlines the code, making it more intuitive.\n",
    "\n",
    "NumPy is the foundation for many other scientific computing and data analysis libraries, including SciPy, Pandas, Matplotlib, and Scikit-Learn. This ensures compatibility and seamless integration across different tools.\n",
    "\n",
    "Moreover, NumPy arrays are memory-efficient.\n",
    "\n",
    "The library also includes essential functions for linear algebra, Fourier transforms, and random number generation, making it indispensable for numerous scientific and engineering applications."
   ]
  },
  {
   "cell_type": "code",
   "execution_count": 136,
   "metadata": {},
   "outputs": [],
   "source": [
    "# To Download numpy library --> pip install numpy (write in command prompt)\n",
    "# Import the numpy library as np\n",
    "\n",
    "import numpy as np"
   ]
  },
  {
   "cell_type": "markdown",
   "metadata": {},
   "source": [
    "<h4>1-Dimension Array :-</h4>"
   ]
  },
  {
   "cell_type": "code",
   "execution_count": 137,
   "metadata": {},
   "outputs": [
    {
     "data": {
      "text/plain": [
       "array([52, 14, 36, 55, 58, 47])"
      ]
     },
     "execution_count": 137,
     "metadata": {},
     "output_type": "execute_result"
    }
   ],
   "source": [
    "# Creation of array 1D\n",
    "arr = np.array([52,14,36,55,58,47])\n",
    "arr"
   ]
  },
  {
   "cell_type": "code",
   "execution_count": 138,
   "metadata": {},
   "outputs": [
    {
     "data": {
      "text/plain": [
       "numpy.ndarray"
      ]
     },
     "execution_count": 138,
     "metadata": {},
     "output_type": "execute_result"
    }
   ],
   "source": [
    "type(arr) # ndarray --> n dimensional array\n",
    "\n",
    "# type() function is used to determine the type of an object."
   ]
  },
  {
   "cell_type": "code",
   "execution_count": 139,
   "metadata": {},
   "outputs": [
    {
     "data": {
      "text/plain": [
       "dtype('int64')"
      ]
     },
     "execution_count": 139,
     "metadata": {},
     "output_type": "execute_result"
    }
   ],
   "source": [
    "arr.dtype\n",
    "# The dtype attribute of a NumPy array is used to determine the type of elements stored in the array."
   ]
  },
  {
   "cell_type": "code",
   "execution_count": 140,
   "metadata": {},
   "outputs": [
    {
     "data": {
      "text/plain": [
       "6"
      ]
     },
     "execution_count": 140,
     "metadata": {},
     "output_type": "execute_result"
    }
   ],
   "source": [
    "arr.size #  The size attribute of an array returns the total number of elements in the array"
   ]
  },
  {
   "cell_type": "code",
   "execution_count": 141,
   "metadata": {},
   "outputs": [
    {
     "data": {
      "text/plain": [
       "6"
      ]
     },
     "execution_count": 141,
     "metadata": {},
     "output_type": "execute_result"
    }
   ],
   "source": [
    "len(arr) # The len() function is a built-in Python function used to get the number of items in a container"
   ]
  },
  {
   "cell_type": "code",
   "execution_count": 142,
   "metadata": {},
   "outputs": [
    {
     "data": {
      "text/plain": [
       "1"
      ]
     },
     "execution_count": 142,
     "metadata": {},
     "output_type": "execute_result"
    }
   ],
   "source": [
    "arr.ndim # The ndim attribute is used to determine the number of dimensions of an array. "
   ]
  },
  {
   "cell_type": "markdown",
   "metadata": {},
   "source": [
    "<h5>Indexing in 1-D Array:-</h5>\n",
    "\n",
    "Indexing in a 1D NumPy array is similar to indexing in standard Python lists. "
   ]
  },
  {
   "cell_type": "code",
   "execution_count": 143,
   "metadata": {},
   "outputs": [
    {
     "name": "stdout",
     "output_type": "stream",
     "text": [
      "11\n",
      "33\n"
     ]
    }
   ],
   "source": [
    "# Creating a 1D NumPy array\n",
    "arr = np.array([11, 22, 33, 44, 55])\n",
    "\n",
    "# Accessing elements\n",
    "print(arr[0])  # Output: 11\n",
    "print(arr[2])  # Output: 33"
   ]
  },
  {
   "cell_type": "code",
   "execution_count": 144,
   "metadata": {},
   "outputs": [
    {
     "name": "stdout",
     "output_type": "stream",
     "text": [
      "[11 25 33 44 55]\n"
     ]
    }
   ],
   "source": [
    "# Modifying elements\n",
    "arr[1] = 25\n",
    "print(arr)  # Output: [11 25 33 44 55]"
   ]
  },
  {
   "cell_type": "code",
   "execution_count": 145,
   "metadata": {},
   "outputs": [
    {
     "name": "stdout",
     "output_type": "stream",
     "text": [
      "[25 33 44]\n",
      "[11 25 33]\n",
      "[11 33 55]\n",
      "[33 44 55]\n"
     ]
    }
   ],
   "source": [
    "# Slicing elements\n",
    "print(arr[1:4])  # Output: [25 33 44]\n",
    "print(arr[:3])   # Output: [11 25 33]\n",
    "print(arr[::2])  # Output: [11 33 55]\n",
    "print(arr[-3:])  # Output: [33 44 55]  (slicing with negative index)"
   ]
  },
  {
   "cell_type": "code",
   "execution_count": 146,
   "metadata": {},
   "outputs": [
    {
     "name": "stdout",
     "output_type": "stream",
     "text": [
      "[ 36 187 141  20 117  77  92 147 180 133  11 196 192 128  87 135 181 134\n",
      " 199 113 147  17 103 157  22 135  54 140 189  18 171   7  16 154   9 130\n",
      " 151  22 158 176 143  50 182 176   8 140 197  25  99 169  38  33 101 191\n",
      "  63  19  21  37 117 180  50 161   1  47  24  35  59 181 103 154  71  59\n",
      "  95 121  25  35  30  26 196  24  66 134  84 192 140 126  50  45 185  69\n",
      " 145 186 194 102 125 149 174 185  99  27  42 186  63 165 130  31 120 126\n",
      " 192  36 113 184  68 141 185 125  25  28 119  15  91   1  19  31 186 155\n",
      " 138  61 199  15  38 100 111 168 159  55  39  70 186 149  40  23  63 113\n",
      "  22 197  29  52  74 195  38 190 124   1 120 160 113 149  10 127 104  26\n",
      " 142 178 140 142  92   5  29  47 193  86  53  69 133  69 190  89 168 159\n",
      "   3  31 114  39  72  83  65  66 141  36 143 145  76 146  70 143 149  23\n",
      "  67  91  38   2  63 179 145 111  80 138  65  91  79 133 139  20  53 178\n",
      " 188 150 139 100 169  11  75  52 157 104 196  31 118  34  41  93  42  39\n",
      " 155  16  14 126  62  87  42 194 110  46 140  30 104  81 123 119 183  53\n",
      " 178 181  14  53 144  49  99 130 175  85  56 177  77 130 135 157 124  77\n",
      "  25  52  73 115  67  49  73 183  30  68  63  27  98  60 193 108  22  29\n",
      "   4  37  62   7  33 153 166  55 107 129  32  42 101 115 185 169 153 102\n",
      " 176 113 133  16 146 115 189  17  66 189 158 116   9   3 168  86  59 110\n",
      " 180  41  36  69  57  79 104 144  41  47 126 185  65  91 180  23  10 156\n",
      "  29 107 137   7  41 167  56 134 114 132 116 197  11   7  50  94 147 103\n",
      "  94  53 128   7  64 163  65  98  93  30  87  30  96  64 127  39 110 146\n",
      " 101  27  65 162  79  24   9  75  17 180  61 190  21  58  85 164 166 122\n",
      "  46 132   6 104  71  74 146  33  20  34 167  33 188 189 106  12  21  99\n",
      " 179 175  24   2  28 188  16  16  10 156  74  16  55 188 113  17 158  15\n",
      "  55 143 182  91 122 187  13 195  84  24  71 108  35 160  52  44 132 119\n",
      "  22 191 137  33  59 108 133  87  61  84 150 175 149   4  71 165  98 142\n",
      "  53 105 178 134 116  57 132   8 162  77 105 101 130   4 146 183 133  37\n",
      "  47  69 144 152  59   6  44  57 154  31 123  41 190  33]\n"
     ]
    }
   ],
   "source": [
    "# The numpy.random.randint() function in NumPy is used to generate random integers within a specified range.\n",
    "arr = np.random.randint(1,200,500)\n",
    "print(arr)"
   ]
  },
  {
   "cell_type": "markdown",
   "metadata": {},
   "source": [
    "<h4>2-Dimension Array :-</h4>\n",
    "\n",
    "2D arrays (also known as matrices) in NumPy is a common task in scientific computing and data analysis. \n",
    "\n",
    "NumPy provides a range of functionalities to create, manipulate, and perform operations on 2D arrays."
   ]
  },
  {
   "cell_type": "code",
   "execution_count": 147,
   "metadata": {},
   "outputs": [
    {
     "name": "stdout",
     "output_type": "stream",
     "text": [
      "[[1 2 3]\n",
      " [4 5 6]\n",
      " [7 8 9]]\n"
     ]
    }
   ],
   "source": [
    "# Creating a 2D NumPy array\n",
    "arr2d = np.array([[1, 2, 3], [4, 5, 6], [7, 8, 9]])\n",
    "print(arr2d)"
   ]
  },
  {
   "cell_type": "code",
   "execution_count": 148,
   "metadata": {},
   "outputs": [
    {
     "name": "stdout",
     "output_type": "stream",
     "text": [
      "Element at (0, 0): 1\n",
      "Element at (1, 2): 6\n"
     ]
    }
   ],
   "source": [
    "# Accessing elements\n",
    "print(\"Element at (0, 0):\", arr2d[0, 0])  # Output: 1\n",
    "print(\"Element at (1, 2):\", arr2d[1, 2])  # Output: 6"
   ]
  },
  {
   "cell_type": "code",
   "execution_count": 149,
   "metadata": {},
   "outputs": [
    {
     "name": "stdout",
     "output_type": "stream",
     "text": [
      "Modified 2D Array:\n",
      "[[ 1  2  3]\n",
      " [ 4  5 20]\n",
      " [ 7  8  9]]\n"
     ]
    }
   ],
   "source": [
    "# Modifying elements\n",
    "arr2d[1, 2] = 20\n",
    "print(\"Modified 2D Array:\")\n",
    "print(arr2d)"
   ]
  },
  {
   "cell_type": "code",
   "execution_count": 150,
   "metadata": {},
   "outputs": [
    {
     "name": "stdout",
     "output_type": "stream",
     "text": [
      "First two rows:\n",
      "[[ 1  2  3]\n",
      " [ 4  5 20]]\n"
     ]
    }
   ],
   "source": [
    "# Slicing rows\n",
    "print(\"First two rows:\")\n",
    "print(arr2d[:2])"
   ]
  },
  {
   "cell_type": "code",
   "execution_count": 151,
   "metadata": {},
   "outputs": [
    {
     "name": "stdout",
     "output_type": "stream",
     "text": [
      "First two columns:\n",
      "[[1 2]\n",
      " [4 5]\n",
      " [7 8]]\n"
     ]
    }
   ],
   "source": [
    "# Slicing columns\n",
    "print(\"First two columns:\")\n",
    "print(arr2d[:, :2])"
   ]
  },
  {
   "cell_type": "code",
   "execution_count": 152,
   "metadata": {},
   "outputs": [
    {
     "name": "stdout",
     "output_type": "stream",
     "text": [
      "Transposed Array:\n",
      "[[ 1  4  7]\n",
      " [ 2  5  8]\n",
      " [ 3 20  9]]\n"
     ]
    }
   ],
   "source": [
    "# Transposing the array\n",
    "print(\"Transposed Array:\")\n",
    "print(arr2d.T)"
   ]
  },
  {
   "cell_type": "code",
   "execution_count": 153,
   "metadata": {},
   "outputs": [
    {
     "name": "stdout",
     "output_type": "stream",
     "text": [
      "Sum of all elements: 59\n"
     ]
    }
   ],
   "source": [
    "# Summing all elements\n",
    "print(\"Sum of all elements:\", np.sum(arr2d))"
   ]
  },
  {
   "cell_type": "code",
   "execution_count": 154,
   "metadata": {},
   "outputs": [
    {
     "name": "stdout",
     "output_type": "stream",
     "text": [
      "Element-wise multiplication:\n",
      "[[ 2  4  6]\n",
      " [ 8 10 40]\n",
      " [14 16 18]]\n"
     ]
    }
   ],
   "source": [
    "# Element-wise operations\n",
    "print(\"Element-wise multiplication:\")\n",
    "print(arr2d * 2)"
   ]
  },
  {
   "cell_type": "code",
   "execution_count": 155,
   "metadata": {},
   "outputs": [
    {
     "name": "stdout",
     "output_type": "stream",
     "text": [
      "[[ 22  28]\n",
      " [119 148]\n",
      " [ 76 100]]\n"
     ]
    }
   ],
   "source": [
    "# Matrix multiplication\n",
    "arr2d_2 = np.array([[1, 2], [3, 4], [5, 6]])\n",
    "print(np.dot(arr2d, arr2d_2))"
   ]
  },
  {
   "cell_type": "markdown",
   "metadata": {},
   "source": [
    "<h4>3-Dimension Array :-</h4>\n",
    "\n",
    "3-dimensional (3D) arrays in NumPy involves similar concepts to working with 2D arrays but adds an additional dimension for more complex data structures."
   ]
  },
  {
   "cell_type": "code",
   "execution_count": 156,
   "metadata": {},
   "outputs": [],
   "source": [
    "arr3 = np.random.randint(1,200,(3,5,3))"
   ]
  },
  {
   "cell_type": "code",
   "execution_count": 157,
   "metadata": {},
   "outputs": [
    {
     "data": {
      "text/plain": [
       "(3, 5, 3)"
      ]
     },
     "execution_count": 157,
     "metadata": {},
     "output_type": "execute_result"
    }
   ],
   "source": [
    "# The shape attribute of an array provides a tuple representing the dimensions of the array.\n",
    "\n",
    "arr3.shape # (table, row, column)"
   ]
  },
  {
   "cell_type": "code",
   "execution_count": 158,
   "metadata": {},
   "outputs": [
    {
     "name": "stdout",
     "output_type": "stream",
     "text": [
      "1\n",
      "12\n",
      "17\n"
     ]
    }
   ],
   "source": [
    "# Creating a 3D NumPy array\n",
    "arr3d = np.array([[[1, 2, 3], [4, 5, 6]], \n",
    "                  [[7, 8, 9], [10, 11, 12]], \n",
    "                  [[13, 14, 15], [16, 17, 18]]])\n",
    "\n",
    "# Accessing specific elements\n",
    "print(arr3d[0, 0, 0])  # Output: 1\n",
    "print(arr3d[1, 1, 2])  # Output: 12\n",
    "print(arr3d[2, 1, 1])  # Output: 17"
   ]
  },
  {
   "cell_type": "markdown",
   "metadata": {},
   "source": [
    "<h3>Numpy Functions :-</h3>"
   ]
  },
  {
   "cell_type": "code",
   "execution_count": 159,
   "metadata": {},
   "outputs": [
    {
     "data": {
      "text/plain": [
       "array([0., 0., 0., 0., 0., 0., 0., 0., 0., 0.])"
      ]
     },
     "execution_count": 159,
     "metadata": {},
     "output_type": "execute_result"
    }
   ],
   "source": [
    "# The zeros() function in NumPy is used to create an array filled with zeros.\n",
    "\n",
    "arr = np.zeros(10)\n",
    "arr"
   ]
  },
  {
   "cell_type": "code",
   "execution_count": 160,
   "metadata": {},
   "outputs": [
    {
     "data": {
      "text/plain": [
       "array([[0., 0., 0., 0., 0.],\n",
       "       [0., 0., 0., 0., 0.],\n",
       "       [0., 0., 0., 0., 0.],\n",
       "       [0., 0., 0., 0., 0.],\n",
       "       [0., 0., 0., 0., 0.],\n",
       "       [0., 0., 0., 0., 0.],\n",
       "       [0., 0., 0., 0., 0.],\n",
       "       [0., 0., 0., 0., 0.],\n",
       "       [0., 0., 0., 0., 0.],\n",
       "       [0., 0., 0., 0., 0.]])"
      ]
     },
     "execution_count": 160,
     "metadata": {},
     "output_type": "execute_result"
    }
   ],
   "source": [
    "arr = np.zeros((10,5)) # 10 row 5 column with item = 0\n",
    "arr"
   ]
  },
  {
   "cell_type": "code",
   "execution_count": 161,
   "metadata": {},
   "outputs": [
    {
     "data": {
      "text/plain": [
       "array([[1., 1., 1., 1., 1.],\n",
       "       [1., 1., 1., 1., 1.],\n",
       "       [1., 1., 1., 1., 1.],\n",
       "       [1., 1., 1., 1., 1.],\n",
       "       [1., 1., 1., 1., 1.],\n",
       "       [1., 1., 1., 1., 1.],\n",
       "       [1., 1., 1., 1., 1.],\n",
       "       [1., 1., 1., 1., 1.],\n",
       "       [1., 1., 1., 1., 1.],\n",
       "       [1., 1., 1., 1., 1.]])"
      ]
     },
     "execution_count": 161,
     "metadata": {},
     "output_type": "execute_result"
    }
   ],
   "source": [
    "# The ones() function in NumPy is used to create an array filled with ones.\n",
    "\n",
    "arr = np.ones((10,5)) # 10 row 5 column with item = 1\n",
    "arr"
   ]
  },
  {
   "cell_type": "code",
   "execution_count": 162,
   "metadata": {},
   "outputs": [
    {
     "data": {
      "text/plain": [
       "array([0, 1, 2, 3, 4, 5, 6, 7, 8, 9])"
      ]
     },
     "execution_count": 162,
     "metadata": {},
     "output_type": "execute_result"
    }
   ],
   "source": [
    "# The arange() function in NumPy is used to create arrays with evenly spaced values within a specified range.\n",
    "# numpy.arange(start, stop, step)\n",
    "\n",
    "np.arange(10) # creates array from range 0-18\n",
    "# creates always 1D array"
   ]
  },
  {
   "cell_type": "code",
   "execution_count": 163,
   "metadata": {},
   "outputs": [
    {
     "data": {
      "text/plain": [
       "array([ 0,  1,  2,  3,  4,  5,  6,  7,  8,  9, 10, 11, 12, 13, 14, 15, 16,\n",
       "       17, 18, 19, 20, 21, 22, 23, 24, 25, 26, 27, 28, 29, 30, 31, 32, 33,\n",
       "       34, 35, 36, 37, 38, 39, 40, 41, 42, 43, 44, 45, 46, 47, 48, 49, 50,\n",
       "       51, 52, 53, 54, 55, 56, 57, 58, 59])"
      ]
     },
     "execution_count": 163,
     "metadata": {},
     "output_type": "execute_result"
    }
   ],
   "source": [
    "arr = np.arange(60)\n",
    "arr # 1D"
   ]
  },
  {
   "cell_type": "code",
   "execution_count": 164,
   "metadata": {},
   "outputs": [
    {
     "data": {
      "text/plain": [
       "array([[ 0,  1,  2,  3,  4,  5,  6,  7,  8,  9],\n",
       "       [10, 11, 12, 13, 14, 15, 16, 17, 18, 19],\n",
       "       [20, 21, 22, 23, 24, 25, 26, 27, 28, 29],\n",
       "       [30, 31, 32, 33, 34, 35, 36, 37, 38, 39],\n",
       "       [40, 41, 42, 43, 44, 45, 46, 47, 48, 49],\n",
       "       [50, 51, 52, 53, 54, 55, 56, 57, 58, 59]])"
      ]
     },
     "execution_count": 164,
     "metadata": {},
     "output_type": "execute_result"
    }
   ],
   "source": [
    "# The reshape() function in NumPy is used to change the shape of an existing array without modifying its data.\n",
    "arr = arr.reshape(6,10) # 1D --> 2D\n",
    "arr"
   ]
  },
  {
   "cell_type": "code",
   "execution_count": 165,
   "metadata": {},
   "outputs": [
    {
     "data": {
      "text/plain": [
       "np.int64(4)"
      ]
     },
     "execution_count": 165,
     "metadata": {},
     "output_type": "execute_result"
    }
   ],
   "source": [
    "arr = np.array([1,2,4,3])\n",
    "np.max(arr) # used to find the maximum value in an array."
   ]
  },
  {
   "cell_type": "code",
   "execution_count": 166,
   "metadata": {},
   "outputs": [
    {
     "data": {
      "text/plain": [
       "np.int64(1)"
      ]
     },
     "execution_count": 166,
     "metadata": {},
     "output_type": "execute_result"
    }
   ],
   "source": [
    "np.min(arr) # used to find the minimum value in an array."
   ]
  },
  {
   "cell_type": "code",
   "execution_count": 167,
   "metadata": {},
   "outputs": [
    {
     "data": {
      "text/plain": [
       "np.int64(10)"
      ]
     },
     "execution_count": 167,
     "metadata": {},
     "output_type": "execute_result"
    }
   ],
   "source": [
    "np.sum(arr) # uused to calculate the total of array elements along a specified axis or across the entire array."
   ]
  },
  {
   "cell_type": "code",
   "execution_count": 168,
   "metadata": {},
   "outputs": [
    {
     "data": {
      "text/plain": [
       "np.int64(0)"
      ]
     },
     "execution_count": 168,
     "metadata": {},
     "output_type": "execute_result"
    }
   ],
   "source": [
    "np.argmin(arr) # returns the index position of the minimum item"
   ]
  },
  {
   "cell_type": "code",
   "execution_count": 169,
   "metadata": {},
   "outputs": [
    {
     "data": {
      "text/plain": [
       "np.int64(2)"
      ]
     },
     "execution_count": 169,
     "metadata": {},
     "output_type": "execute_result"
    }
   ],
   "source": [
    "np.argmax(arr) # returns the index position of the maximum item"
   ]
  },
  {
   "cell_type": "code",
   "execution_count": 170,
   "metadata": {},
   "outputs": [
    {
     "data": {
      "text/plain": [
       "array([1, 2, 3, 4])"
      ]
     },
     "execution_count": 170,
     "metadata": {},
     "output_type": "execute_result"
    }
   ],
   "source": [
    "# used to arrange the elements of an array along a specified axis. It returns a sorted version of the array.\n",
    "arr.sort() # Ascending order\n",
    "arr"
   ]
  },
  {
   "cell_type": "code",
   "execution_count": 171,
   "metadata": {},
   "outputs": [
    {
     "data": {
      "text/plain": [
       "array([4, 3, 2, 1])"
      ]
     },
     "execution_count": 171,
     "metadata": {},
     "output_type": "execute_result"
    }
   ],
   "source": [
    "arr[::-1] # Descending order"
   ]
  }
 ],
 "metadata": {
  "kernelspec": {
   "display_name": "Python 3",
   "language": "python",
   "name": "python3"
  },
  "language_info": {
   "codemirror_mode": {
    "name": "ipython",
    "version": 3
   },
   "file_extension": ".py",
   "mimetype": "text/x-python",
   "name": "python",
   "nbconvert_exporter": "python",
   "pygments_lexer": "ipython3",
   "version": "3.12.4"
  }
 },
 "nbformat": 4,
 "nbformat_minor": 2
}
