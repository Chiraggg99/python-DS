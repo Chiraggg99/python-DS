{
 "cells": [
  {
   "cell_type": "code",
   "execution_count": 1,
   "metadata": {},
   "outputs": [],
   "source": [
    "import numpy as np"
   ]
  },
  {
   "cell_type": "code",
   "execution_count": 2,
   "metadata": {},
   "outputs": [
    {
     "data": {
      "text/plain": [
       "array([25, 41, 66, 63, 85, 74])"
      ]
     },
     "execution_count": 2,
     "metadata": {},
     "output_type": "execute_result"
    }
   ],
   "source": [
    "#creation of array 1D\n",
    "arr = np.array([25,41,66,63,85,74])\n",
    "arr "
   ]
  },
  {
   "cell_type": "code",
   "execution_count": 3,
   "metadata": {},
   "outputs": [
    {
     "data": {
      "text/plain": [
       "numpy.ndarray"
      ]
     },
     "execution_count": 3,
     "metadata": {},
     "output_type": "execute_result"
    }
   ],
   "source": [
    "type(arr)\n",
    "#ndarray ==> n dimensional array"
   ]
  },
  {
   "cell_type": "code",
   "execution_count": 4,
   "metadata": {},
   "outputs": [
    {
     "data": {
      "text/plain": [
       "6"
      ]
     },
     "execution_count": 4,
     "metadata": {},
     "output_type": "execute_result"
    }
   ],
   "source": [
    "arr.size  #no.of item"
   ]
  },
  {
   "cell_type": "code",
   "execution_count": 5,
   "metadata": {},
   "outputs": [
    {
     "data": {
      "text/plain": [
       "6"
      ]
     },
     "execution_count": 5,
     "metadata": {},
     "output_type": "execute_result"
    }
   ],
   "source": [
    "len(arr) #"
   ]
  },
  {
   "cell_type": "code",
   "execution_count": 6,
   "metadata": {},
   "outputs": [
    {
     "data": {
      "text/plain": [
       "1"
      ]
     },
     "execution_count": 6,
     "metadata": {},
     "output_type": "execute_result"
    }
   ],
   "source": [
    "arr.ndim #to check the array dimension"
   ]
  },
  {
   "cell_type": "code",
   "execution_count": 16,
   "metadata": {},
   "outputs": [
    {
     "data": {
      "text/plain": [
       "array(['25', '41', '66', '63', '85', '74', '25.01', 'upflairs', 'True'],\n",
       "      dtype='<U32')"
      ]
     },
     "execution_count": 16,
     "metadata": {},
     "output_type": "execute_result"
    }
   ],
   "source": [
    "arr = np.array([25, 41, 66, 63, 85, 74,25.01,'upflairs',True])\n",
    "arr\n",
    "## similar type item stored\n",
    "## array similar item "
   ]
  },
  {
   "cell_type": "code",
   "execution_count": 15,
   "metadata": {},
   "outputs": [
    {
     "data": {
      "text/plain": [
       "dtype('<U32')"
      ]
     },
     "execution_count": 15,
     "metadata": {},
     "output_type": "execute_result"
    }
   ],
   "source": [
    "arr.dtype"
   ]
  },
  {
   "cell_type": "code",
   "execution_count": 12,
   "metadata": {},
   "outputs": [
    {
     "name": "stdout",
     "output_type": "stream",
     "text": [
      "2.0.0\n"
     ]
    }
   ],
   "source": [
    "print(np.__version__)"
   ]
  },
  {
   "cell_type": "code",
   "execution_count": 17,
   "metadata": {},
   "outputs": [
    {
     "data": {
      "text/plain": [
       "array([25, 41, 66, 63, 85, 74])"
      ]
     },
     "execution_count": 17,
     "metadata": {},
     "output_type": "execute_result"
    }
   ],
   "source": [
    "arr = np.array([25, 41, 66, 63, 85, 74])\n",
    "arr"
   ]
  },
  {
   "cell_type": "code",
   "execution_count": 18,
   "metadata": {},
   "outputs": [
    {
     "data": {
      "text/plain": [
       "np.int64(74)"
      ]
     },
     "execution_count": 18,
     "metadata": {},
     "output_type": "execute_result"
    }
   ],
   "source": [
    "arr[-1]"
   ]
  },
  {
   "cell_type": "code",
   "execution_count": 22,
   "metadata": {},
   "outputs": [
    {
     "data": {
      "text/plain": [
       "array([85, 74])"
      ]
     },
     "execution_count": 22,
     "metadata": {},
     "output_type": "execute_result"
    }
   ],
   "source": [
    "arr[2:4:] #start = 0, stoping = end, jump = 1"
   ]
  },
  {
   "cell_type": "code",
   "execution_count": 23,
   "metadata": {},
   "outputs": [],
   "source": [
    "arr[-1] = 500 #replace or update"
   ]
  },
  {
   "cell_type": "code",
   "execution_count": 24,
   "metadata": {},
   "outputs": [
    {
     "data": {
      "text/plain": [
       "array([ 25,  41,  66,  63,  85, 500])"
      ]
     },
     "execution_count": 24,
     "metadata": {},
     "output_type": "execute_result"
    }
   ],
   "source": [
    "arr"
   ]
  },
  {
   "cell_type": "code",
   "execution_count": 25,
   "metadata": {},
   "outputs": [
    {
     "data": {
      "text/plain": [
       "array([ 27,  43,  68,  65,  87, 502])"
      ]
     },
     "execution_count": 25,
     "metadata": {},
     "output_type": "execute_result"
    }
   ],
   "source": [
    "arr + 2\n",
    "#increment or addition in item of 2"
   ]
  },
  {
   "cell_type": "code",
   "execution_count": 26,
   "metadata": {},
   "outputs": [
    {
     "data": {
      "text/plain": [
       "array([  50,   82,  132,  126,  170, 1000])"
      ]
     },
     "execution_count": 26,
     "metadata": {},
     "output_type": "execute_result"
    }
   ],
   "source": [
    "arr * 2\n",
    "#multiplication in items by 2"
   ]
  },
  {
   "cell_type": "markdown",
   "metadata": {},
   "source": [
    "<h1>2-D Arrays</h1>"
   ]
  },
  {
   "cell_type": "code",
   "execution_count": 27,
   "metadata": {},
   "outputs": [
    {
     "data": {
      "text/plain": [
       "[[1, 2, 3], [4, 5, 6], [7, 8, 9]]"
      ]
     },
     "execution_count": 27,
     "metadata": {},
     "output_type": "execute_result"
    }
   ],
   "source": [
    "#2-D arrays\n",
    "ls = [[1,2,3],\n",
    "      [4,5,6],\n",
    "      [7,8,9]]\n",
    "ls"
   ]
  },
  {
   "cell_type": "code",
   "execution_count": 28,
   "metadata": {},
   "outputs": [
    {
     "data": {
      "text/plain": [
       "list"
      ]
     },
     "execution_count": 28,
     "metadata": {},
     "output_type": "execute_result"
    }
   ],
   "source": [
    "type(ls)"
   ]
  },
  {
   "cell_type": "code",
   "execution_count": 29,
   "metadata": {},
   "outputs": [
    {
     "data": {
      "text/plain": [
       "[1, 2, 3]"
      ]
     },
     "execution_count": 29,
     "metadata": {},
     "output_type": "execute_result"
    }
   ],
   "source": [
    "ls[0]"
   ]
  },
  {
   "cell_type": "code",
   "execution_count": 30,
   "metadata": {},
   "outputs": [
    {
     "data": {
      "text/plain": [
       "array([[1, 2, 3],\n",
       "       [4, 5, 6],\n",
       "       [7, 8, 9]])"
      ]
     },
     "execution_count": 30,
     "metadata": {},
     "output_type": "execute_result"
    }
   ],
   "source": [
    "arr2 = np.array(ls)\n",
    "arr2"
   ]
  },
  {
   "cell_type": "code",
   "execution_count": 32,
   "metadata": {},
   "outputs": [
    {
     "data": {
      "text/plain": [
       "(3, 3)"
      ]
     },
     "execution_count": 32,
     "metadata": {},
     "output_type": "execute_result"
    }
   ],
   "source": [
    "arr2.shape \n",
    "# (3,3)\n",
    "# 3 rows, 3 columns"
   ]
  },
  {
   "cell_type": "code",
   "execution_count": 36,
   "metadata": {},
   "outputs": [
    {
     "data": {
      "text/plain": [
       "array([1, 2, 3])"
      ]
     },
     "execution_count": 36,
     "metadata": {},
     "output_type": "execute_result"
    }
   ],
   "source": [
    "arr2[0] # to fetch single row"
   ]
  },
  {
   "cell_type": "code",
   "execution_count": 39,
   "metadata": {},
   "outputs": [
    {
     "data": {
      "text/plain": [
       "array([[1, 2, 3],\n",
       "       [4, 5, 6]])"
      ]
     },
     "execution_count": 39,
     "metadata": {},
     "output_type": "execute_result"
    }
   ],
   "source": [
    "arr2[0:2] #to fetch multiple rows"
   ]
  },
  {
   "cell_type": "code",
   "execution_count": 40,
   "metadata": {},
   "outputs": [
    {
     "data": {
      "text/plain": [
       "array([5, 6])"
      ]
     },
     "execution_count": 40,
     "metadata": {},
     "output_type": "execute_result"
    }
   ],
   "source": [
    "arr2[1,1:3]"
   ]
  },
  {
   "cell_type": "code",
   "execution_count": 46,
   "metadata": {},
   "outputs": [
    {
     "data": {
      "text/plain": [
       "array([[5, 6],\n",
       "       [8, 9]])"
      ]
     },
     "execution_count": 46,
     "metadata": {},
     "output_type": "execute_result"
    }
   ],
   "source": [
    "arr2[1:3,1:3]"
   ]
  },
  {
   "cell_type": "code",
   "execution_count": 53,
   "metadata": {},
   "outputs": [
    {
     "data": {
      "text/plain": [
       "array([[ 1,  2,  3],\n",
       "       [ 4,  5,  6],\n",
       "       [ 7,  8, 90]])"
      ]
     },
     "execution_count": 53,
     "metadata": {},
     "output_type": "execute_result"
    }
   ],
   "source": [
    "# 9 = 90\n",
    "arr2[-1,-1] = 90\n",
    "arr2"
   ]
  },
  {
   "cell_type": "code",
   "execution_count": 54,
   "metadata": {},
   "outputs": [
    {
     "data": {
      "text/plain": [
       "array([ 96,  26,  97,  94,  66, 183,  35, 195,  46, 171,  97, 108,   5,\n",
       "        86, 116,   1,  57, 195, 122, 155, 190, 124,  63,  76, 129, 108,\n",
       "        11,  18,  31,   8,  91,  98,  13,  24, 144, 156, 129,  77, 199,\n",
       "       140, 133,   4, 107,  88,  92,  79, 186, 168,  74, 157,   7, 124,\n",
       "        48, 151,  26, 185, 191,  92,  33, 123,  74, 118, 168, 128,  79,\n",
       "        13, 107,  12,  91,  84,  35, 107,  15,   8,  95, 116,  79,  21,\n",
       "       101, 109, 197, 135, 191, 188, 192, 177,  85, 125, 126,  33, 138,\n",
       "        57, 103,  91, 106, 153, 107, 169,  21,  36, 178,  26, 191, 122,\n",
       "        19, 117,  65,  87, 111,  11,  81,   2,  52, 153,  74,  91, 153,\n",
       "       125,  28, 166, 144,  64,  91,  79,  34,  69,  71, 126,  90, 184,\n",
       "        97, 137, 128, 144,  49, 119,  27, 102,  37,   8, 142,  26,  53,\n",
       "        24, 115, 178,  45,  78,  53, 188,   8,  20,  27,  27, 148, 160,\n",
       "        98, 101, 115,  65,  93,  35, 159, 166, 161, 157, 127,  27, 136,\n",
       "         8,  23, 182, 117,  89,  51, 109,  26,  98,  12,  85,  41, 107,\n",
       "       150, 196,  10, 157, 135, 106, 119, 124, 158, 182, 171,  90,  64,\n",
       "        52, 152,  17,  18,  28, 183,  16, 111,  56, 154,  32, 193, 181,\n",
       "         2,   2, 119, 146, 178,  13,  92,  18,  45,  28, 177,  15,  82,\n",
       "       188,  51, 168, 111, 124, 145, 184, 156, 111,  85, 113, 144,  64,\n",
       "        94, 199,   8, 194,  67,  91,  53, 118,  13, 117,  96,  42, 161,\n",
       "       110, 198,  48, 115,  90, 135, 182,  87,  87,  20,  50,   3,  50,\n",
       "         4,  39, 185,  47, 101,  37,  82,  56, 163,  77, 166,  55, 198,\n",
       "       161, 135,  25, 198, 156, 196, 124,   7, 184,  41, 160, 144,  95,\n",
       "        30, 192,  70,  54, 115,  84,  18,  56,   2,  47,  89,  76,  12,\n",
       "       125,  71,  44, 127, 169, 115, 163,  34,  71,  62, 173, 132, 122,\n",
       "        81,  84,  14,  58, 186,  56,  92, 189, 193, 173, 117, 195,  22,\n",
       "       154, 115, 116, 135, 143,   4,  91, 128, 176,  30, 146,  75, 171,\n",
       "       166, 195,   8, 189,  46,   5, 125, 174,  60, 158, 136, 161,  49,\n",
       "        68,  35,  82,   9,  66, 151, 182,  35, 144, 109,  52, 101, 171,\n",
       "        93, 185, 139, 174,  42,   5,  20, 195,  61,  46, 155,  88,  82,\n",
       "       192, 181, 153,  11, 122, 126,  69,  37, 161, 123, 103, 146, 152,\n",
       "       112,   2, 198,  16,  27, 105, 138,  12,  33,  37,  92, 147, 149,\n",
       "       183,   9, 178, 134, 128, 122,  61,  63,  26, 197,  67, 110,  59,\n",
       "        15, 106,  67,  12,  51,  88, 139,  38,   3,  70, 157, 114, 138,\n",
       "       179,  38,  24, 162,  80,  25, 135, 107,  96, 177,  80, 184,  51,\n",
       "       184,  88,  81, 148,   6, 152, 166, 124, 162,  77,  31, 133, 195,\n",
       "        60, 111, 136, 197, 154, 130,   8, 195,  78, 181, 182,  34,  37,\n",
       "       103,  70,  25, 152, 121, 141,  60, 101,  38,  56,  55, 150, 194,\n",
       "       131, 110, 199,  80,  18,  36,  63,  98,  10, 117, 163, 135,  18,\n",
       "       140,  86,  42,  36, 117,  60], dtype=int32)"
      ]
     },
     "execution_count": 54,
     "metadata": {},
     "output_type": "execute_result"
    }
   ],
   "source": [
    "arr = np.random.randint(1,200,500)\n",
    "arr\n",
    "#single dimension array"
   ]
  },
  {
   "cell_type": "code",
   "execution_count": 68,
   "metadata": {},
   "outputs": [
    {
     "data": {
      "text/plain": [
       "array([96, 26, 97, 94, 66, 35, 46, 97,  5, 86,  1, 57, 63, 76, 11, 18, 31,\n",
       "        8, 91, 98, 13, 24, 77,  4, 88, 92, 79, 74,  7, 48, 26, 92, 33, 74,\n",
       "       79, 13, 12, 91, 84, 35, 15,  8, 95, 79, 21, 85, 33, 57, 91, 21, 36,\n",
       "       26, 19, 65, 87, 11, 81,  2, 52, 74, 91, 28, 64, 91, 79, 34, 69, 71,\n",
       "       90, 97, 49, 27, 37,  8, 26, 53, 24, 45, 78, 53,  8, 20, 27, 27, 98,\n",
       "       65, 93, 35, 27,  8, 23, 89, 51, 26, 98, 12, 85, 41, 10, 90, 64, 52,\n",
       "       17, 18, 28, 16, 56, 32,  2,  2, 13, 92, 18, 45, 28, 15, 82, 51, 85,\n",
       "       64, 94,  8, 67, 91, 53, 13, 96, 42, 48, 90, 87, 87, 20, 50,  3, 50,\n",
       "        4, 39, 47, 37, 82, 56, 77, 55, 25,  7, 41, 95, 30, 70, 54, 84, 18,\n",
       "       56,  2, 47, 89, 76, 12, 71, 44, 34, 71, 62, 81, 84, 14, 58, 56, 92,\n",
       "       22,  4, 91, 30, 75,  8, 46,  5, 60, 49, 68, 35, 82,  9, 66, 35, 52,\n",
       "       93, 42,  5, 20, 61, 46, 88, 82, 11, 69, 37,  2, 16, 27, 12, 33, 37,\n",
       "       92,  9, 61, 63, 26, 67, 59, 15, 67, 12, 51, 88, 38,  3, 70, 38, 24,\n",
       "       80, 25, 96, 80, 51, 88, 81,  6, 77, 31, 60,  8, 78, 34, 37, 70, 25,\n",
       "       60, 38, 56, 55, 80, 18, 36, 63, 98, 10, 18, 86, 42, 36, 60],\n",
       "      dtype=int32)"
      ]
     },
     "execution_count": 68,
     "metadata": {},
     "output_type": "execute_result"
    }
   ],
   "source": [
    "#arr filter all that item that are less than equal to 100\n",
    "# method 1:-\n",
    "# np.sum(arr<=100)\n",
    "\n",
    "#  method 2:-\n",
    "# for i in arr:\n",
    "#     count =0\n",
    "#     if(i<=100):\n",
    "#      count+=1\n",
    "#     print(count)\n",
    "\n",
    "arr[arr<=100]"
   ]
  },
  {
   "cell_type": "code",
   "execution_count": 67,
   "metadata": {},
   "outputs": [
    {
     "data": {
      "text/plain": [
       "253"
      ]
     },
     "execution_count": 67,
     "metadata": {},
     "output_type": "execute_result"
    }
   ],
   "source": [
    "arr[arr<=100].size #total items"
   ]
  },
  {
   "cell_type": "code",
   "execution_count": 69,
   "metadata": {},
   "outputs": [
    {
     "data": {
      "text/plain": [
       "(253,)"
      ]
     },
     "execution_count": 69,
     "metadata": {},
     "output_type": "execute_result"
    }
   ],
   "source": [
    "arr[arr<=100].shape"
   ]
  },
  {
   "cell_type": "code",
   "execution_count": 70,
   "metadata": {},
   "outputs": [
    {
     "data": {
      "text/plain": [
       "array([[159,   6,  70, 184,  16],\n",
       "       [  7, 150,  94,   3,  61],\n",
       "       [ 78,  16, 193, 154, 121],\n",
       "       [  7, 159,  77,  26,  81],\n",
       "       [ 45, 186, 136,  15,  70],\n",
       "       [126,  60,  71,  39, 147],\n",
       "       [ 17,  42, 159, 191,   8],\n",
       "       [109, 176, 197, 142, 115],\n",
       "       [199,  70,  89,  10,  79],\n",
       "       [175, 136, 104,  70, 117]], dtype=int32)"
      ]
     },
     "execution_count": 70,
     "metadata": {},
     "output_type": "execute_result"
    }
   ],
   "source": [
    "arr2 = np.random.randint(1,200,(10,5))\n",
    "arr2\n",
    "#2 D random generate"
   ]
  },
  {
   "cell_type": "code",
   "execution_count": 71,
   "metadata": {},
   "outputs": [
    {
     "data": {
      "text/plain": [
       "array([[[198,  62,  53],\n",
       "        [168, 106,  70],\n",
       "        [187,  75, 167],\n",
       "        [ 84,  83,  21],\n",
       "        [196,  46, 135],\n",
       "        [114, 169, 162]],\n",
       "\n",
       "       [[  7,  24, 133],\n",
       "        [ 61,  59,  84],\n",
       "        [ 22,   7, 132],\n",
       "        [158, 134, 116],\n",
       "        [ 80, 169, 136],\n",
       "        [ 77,  57,  42]],\n",
       "\n",
       "       [[144, 155,  86],\n",
       "        [ 74, 175,  41],\n",
       "        [183, 120, 182],\n",
       "        [184,  65,  83],\n",
       "        [197, 181,  77],\n",
       "        [181,  20, 134]],\n",
       "\n",
       "       [[146, 156,  12],\n",
       "        [188,   3, 150],\n",
       "        [187, 170,  73],\n",
       "        [148, 104,  54],\n",
       "        [ 51,  48, 186],\n",
       "        [139, 185, 182]],\n",
       "\n",
       "       [[ 17, 139,  86],\n",
       "        [189,  87,  69],\n",
       "        [ 28,  42,  38],\n",
       "        [108, 170,  26],\n",
       "        [170,  21,  12],\n",
       "        [ 70,  97, 121]],\n",
       "\n",
       "       [[186,  52, 108],\n",
       "        [ 68, 165,  99],\n",
       "        [ 72,  73, 152],\n",
       "        [186, 125,   8],\n",
       "        [197,  60, 120],\n",
       "        [166, 172,  20]],\n",
       "\n",
       "       [[ 19,  87, 174],\n",
       "        [ 37, 148, 123],\n",
       "        [173, 136, 106],\n",
       "        [  5,  29,  73],\n",
       "        [116,  54, 104],\n",
       "        [ 24, 100, 149]],\n",
       "\n",
       "       [[ 33, 123,  83],\n",
       "        [ 91, 164,  44],\n",
       "        [ 99,  54, 194],\n",
       "        [  1,  60,  62],\n",
       "        [ 72, 148, 184],\n",
       "        [  7, 124,  56]],\n",
       "\n",
       "       [[ 97, 179,  59],\n",
       "        [ 59,   6,  81],\n",
       "        [ 48, 165, 199],\n",
       "        [137, 190,  28],\n",
       "        [140,  38,  58],\n",
       "        [130, 179, 144]],\n",
       "\n",
       "       [[ 90, 142,  25],\n",
       "        [ 43, 106,  47],\n",
       "        [ 88, 159,  78],\n",
       "        [ 51,  25,  10],\n",
       "        [150,  10, 158],\n",
       "        [134, 163,  82]]], dtype=int32)"
      ]
     },
     "execution_count": 71,
     "metadata": {},
     "output_type": "execute_result"
    }
   ],
   "source": [
    "arr2 = np.random.randint(1,200,(10,6,3))\n",
    "arr2"
   ]
  },
  {
   "cell_type": "code",
   "execution_count": 73,
   "metadata": {},
   "outputs": [
    {
     "data": {
      "text/plain": [
       "array([0., 0., 0., 0., 0., 0., 0., 0., 0., 0.])"
      ]
     },
     "execution_count": 73,
     "metadata": {},
     "output_type": "execute_result"
    }
   ],
   "source": [
    "arr =np.zeros(10)\n",
    "arr"
   ]
  },
  {
   "cell_type": "code",
   "execution_count": 75,
   "metadata": {},
   "outputs": [
    {
     "data": {
      "text/plain": [
       "array([[0., 0., 0., 0., 0.],\n",
       "       [0., 0., 0., 0., 0.],\n",
       "       [0., 0., 0., 0., 0.],\n",
       "       [0., 0., 0., 0., 0.],\n",
       "       [0., 0., 0., 0., 0.],\n",
       "       [0., 0., 0., 0., 0.],\n",
       "       [0., 0., 0., 0., 0.],\n",
       "       [0., 0., 0., 0., 0.],\n",
       "       [0., 0., 0., 0., 0.],\n",
       "       [0., 0., 0., 0., 0.]])"
      ]
     },
     "execution_count": 75,
     "metadata": {},
     "output_type": "execute_result"
    }
   ],
   "source": [
    "arr = np.zeros((10,5))\n",
    "arr\n",
    "# 2D "
   ]
  },
  {
   "cell_type": "code",
   "execution_count": null,
   "metadata": {},
   "outputs": [],
   "source": []
  },
  {
   "cell_type": "code",
   "execution_count": 76,
   "metadata": {},
   "outputs": [
    {
     "data": {
      "text/plain": [
       "array([1., 1., 1., 1., 1., 1., 1., 1., 1., 1.])"
      ]
     },
     "execution_count": 76,
     "metadata": {},
     "output_type": "execute_result"
    }
   ],
   "source": [
    "arr = np.ones(10)\n",
    "arr"
   ]
  },
  {
   "cell_type": "code",
   "execution_count": 77,
   "metadata": {},
   "outputs": [
    {
     "data": {
      "text/plain": [
       "array([[1., 1., 1., 1., 1.],\n",
       "       [1., 1., 1., 1., 1.],\n",
       "       [1., 1., 1., 1., 1.],\n",
       "       [1., 1., 1., 1., 1.],\n",
       "       [1., 1., 1., 1., 1.],\n",
       "       [1., 1., 1., 1., 1.],\n",
       "       [1., 1., 1., 1., 1.],\n",
       "       [1., 1., 1., 1., 1.],\n",
       "       [1., 1., 1., 1., 1.],\n",
       "       [1., 1., 1., 1., 1.]])"
      ]
     },
     "execution_count": 77,
     "metadata": {},
     "output_type": "execute_result"
    }
   ],
   "source": [
    "arr = np.ones((10,5))\n",
    "arr\n",
    "#2D"
   ]
  },
  {
   "cell_type": "code",
   "execution_count": 78,
   "metadata": {},
   "outputs": [
    {
     "data": {
      "text/plain": [
       "[0, 1, 2, 3, 4, 5, 6, 7, 8, 9]"
      ]
     },
     "execution_count": 78,
     "metadata": {},
     "output_type": "execute_result"
    }
   ],
   "source": [
    "ls = [0,1,2,3,4,5,6,7,8,9]\n",
    "ls"
   ]
  },
  {
   "cell_type": "code",
   "execution_count": 81,
   "metadata": {},
   "outputs": [
    {
     "data": {
      "text/plain": [
       "[0, 1, 2, 3, 4, 5, 6, 7, 8, 9]"
      ]
     },
     "execution_count": 81,
     "metadata": {},
     "output_type": "execute_result"
    }
   ],
   "source": [
    "ls = list(range(10))\n",
    "ls"
   ]
  },
  {
   "cell_type": "code",
   "execution_count": 84,
   "metadata": {},
   "outputs": [
    {
     "data": {
      "text/plain": [
       "array([ 5,  6,  7,  8,  9, 10, 11, 12, 13, 14, 15, 16, 17, 18, 19, 20, 21,\n",
       "       22, 23, 24, 25, 26, 27, 28, 29, 30, 31, 32, 33, 34, 35, 36, 37, 38,\n",
       "       39, 40, 41, 42, 43, 44, 45, 46, 47, 48, 49, 50, 51, 52, 53, 54, 55,\n",
       "       56, 57, 58, 59, 60, 61, 62, 63, 64, 65, 66, 67, 68, 69, 70, 71, 72,\n",
       "       73, 74, 75, 76, 77, 78, 79, 80, 81, 82, 83, 84, 85, 86, 87, 88, 89,\n",
       "       90, 91, 92, 93, 94, 95, 96, 97, 98, 99])"
      ]
     },
     "execution_count": 84,
     "metadata": {},
     "output_type": "execute_result"
    }
   ],
   "source": [
    "#arr = np.arange(10)\n",
    "#arr = np.arange(5,100)\n",
    "arr"
   ]
  },
  {
   "cell_type": "code",
   "execution_count": 101,
   "metadata": {},
   "outputs": [
    {
     "data": {
      "text/plain": [
       "array([ 0,  1,  2,  3,  4,  5,  6,  7,  8,  9, 10, 11, 12, 13, 14, 15, 16,\n",
       "       17, 18, 19, 20, 21, 22, 23, 24, 25, 26, 27, 28, 29, 30, 31, 32, 33,\n",
       "       34, 35, 36, 37, 38, 39, 40, 41, 42, 43, 44, 45, 46, 47, 48, 49, 50,\n",
       "       51, 52, 53, 54, 55, 56, 57, 58, 59])"
      ]
     },
     "execution_count": 101,
     "metadata": {},
     "output_type": "execute_result"
    }
   ],
   "source": [
    "arr = np.arange(60)\n",
    "arr"
   ]
  },
  {
   "cell_type": "code",
   "execution_count": 104,
   "metadata": {},
   "outputs": [
    {
     "data": {
      "text/plain": [
       "array([[ 0,  1,  2,  3,  4,  5],\n",
       "       [ 6,  7,  8,  9, 10, 11],\n",
       "       [12, 13, 14, 15, 16, 17],\n",
       "       [18, 19, 20, 21, 22, 23],\n",
       "       [24, 25, 26, 27, 28, 29],\n",
       "       [30, 31, 32, 33, 34, 35],\n",
       "       [36, 37, 38, 39, 40, 41],\n",
       "       [42, 43, 44, 45, 46, 47],\n",
       "       [48, 49, 50, 51, 52, 53],\n",
       "       [54, 55, 56, 57, 58, 59]])"
      ]
     },
     "execution_count": 104,
     "metadata": {},
     "output_type": "execute_result"
    }
   ],
   "source": [
    "arr.reshape(10,6)"
   ]
  },
  {
   "cell_type": "code",
   "execution_count": 105,
   "metadata": {},
   "outputs": [
    {
     "data": {
      "text/plain": [
       "array([[ 0,  1,  2,  3,  4,  5,  6,  7,  8,  9, 10, 11, 12, 13, 14, 15,\n",
       "        16, 17, 18, 19],\n",
       "       [20, 21, 22, 23, 24, 25, 26, 27, 28, 29, 30, 31, 32, 33, 34, 35,\n",
       "        36, 37, 38, 39],\n",
       "       [40, 41, 42, 43, 44, 45, 46, 47, 48, 49, 50, 51, 52, 53, 54, 55,\n",
       "        56, 57, 58, 59]])"
      ]
     },
     "execution_count": 105,
     "metadata": {},
     "output_type": "execute_result"
    }
   ],
   "source": [
    "arr.reshape(3,20)"
   ]
  }
 ],
 "metadata": {
  "kernelspec": {
   "display_name": "Python 3",
   "language": "python",
   "name": "python3"
  },
  "language_info": {
   "codemirror_mode": {
    "name": "ipython",
    "version": 3
   },
   "file_extension": ".py",
   "mimetype": "text/x-python",
   "name": "python",
   "nbconvert_exporter": "python",
   "pygments_lexer": "ipython3",
   "version": "3.12.4"
  }
 },
 "nbformat": 4,
 "nbformat_minor": 2
}
